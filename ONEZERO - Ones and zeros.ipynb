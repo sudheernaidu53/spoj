{
 "cells": [
  {
   "cell_type": "markdown",
   "metadata": {},
   "source": [
    "Certain positive integers have their decimal representation consisting only of ones and zeros, and having at least one digit one, e.g. 101. If a positive integer does not have such a property, one can try to multiply it by some positive integer to find out whether the product has this property.\n",
    "\n",
    "Input  \n",
    "Number K of test cases (K is approximately 1000);  \n",
    "in each of the next K lines there is one integer n (1 <= n <= 20000)\n",
    "\n",
    "Output  \n",
    "For each test case, your program should compute the smallest multiple of the number n consisting only of digits 1 and 0 (beginning with 1).\n"
   ]
  },
  {
   "cell_type": "code",
   "execution_count": null,
   "metadata": {},
   "outputs": [],
   "source": [
    "\n",
    "Example\n",
    "Input:\n",
    "3\n",
    "17\n",
    "11011\n",
    "17\n",
    "Output:\n",
    "11101\n",
    "11011\n",
    "11101"
   ]
  },
  {
   "cell_type": "code",
   "execution_count": 6,
   "metadata": {},
   "outputs": [],
   "source": [
    "from collections import deque\n",
    "\n",
    "def find_onezero(num):\n",
    "    edges = [[0,1],[0,1]]\n",
    "    start = 1\n",
    "    nodes = deque()\n",
    "    nodes.append([1,1])\n",
    "    while nodes:\n",
    "        curr_node = nodes.popleft()\n",
    "        if not(curr_node[1]%num):\n",
    "            return curr_node[1]\n",
    "        else: \n",
    "            for node in edges[curr_node[0]]:\n",
    "                nodes.append([node,(curr_node[1])*10+node])"
   ]
  },
  {
   "cell_type": "code",
   "execution_count": 15,
   "metadata": {
    "scrolled": true
   },
   "outputs": [
    {
     "name": "stdout",
     "output_type": "stream",
     "text": [
      "2\n",
      "17\n",
      "11101\n",
      "1101\n",
      "1101\n"
     ]
    }
   ],
   "source": [
    "T = int(input())\n",
    "for test in range(T):\n",
    "    print(find_onezero(int(input())))"
   ]
  },
  {
   "cell_type": "code",
   "execution_count": 9,
   "metadata": {},
   "outputs": [],
   "source": [
    "import numpy as np"
   ]
  },
  {
   "cell_type": "code",
   "execution_count": 12,
   "metadata": {
    "scrolled": true
   },
   "outputs": [
    {
     "name": "stdout",
     "output_type": "stream",
     "text": [
      "101101100\n",
      "101111010\n",
      "110111111100\n",
      "100001010\n",
      "100010010\n",
      "1010111111100\n",
      "100101011100\n",
      "11111111110\n"
     ]
    }
   ],
   "source": [
    "for number in range(np.random.randint(20)):\n",
    "    print(find_onezero(np.random.randint(1000)))"
   ]
  },
  {
   "cell_type": "code",
   "execution_count": 16,
   "metadata": {},
   "outputs": [
    {
     "name": "stdout",
     "output_type": "stream",
     "text": [
      "Overwriting ONEZERO.py\n"
     ]
    }
   ],
   "source": [
    "%%writefile ONEZERO.py \n",
    "\n",
    "from collections import deque\n",
    "\n",
    "def find_onezero(num):\n",
    "    edges = [[0,1],[0,1]]\n",
    "    start = 1\n",
    "    nodes = deque()\n",
    "    nodes.append([1,1])\n",
    "    while nodes:\n",
    "        curr_node = nodes.popleft()\n",
    "        if not(curr_node[1]%num):\n",
    "            return curr_node[1]\n",
    "        else: \n",
    "            for node in edges[curr_node[0]]:\n",
    "                nodes.append([node,(curr_node[1])*10+node])\n",
    "                \n",
    "T = int(input())\n",
    "for test in range(T):\n",
    "    print(find_onezero(int(input())))"
   ]
  },
  {
   "cell_type": "code",
   "execution_count": null,
   "metadata": {},
   "outputs": [],
   "source": []
  }
 ],
 "metadata": {
  "kernelspec": {
   "display_name": "Python 3",
   "language": "python",
   "name": "python3"
  },
  "language_info": {
   "codemirror_mode": {
    "name": "ipython",
    "version": 3
   },
   "file_extension": ".py",
   "mimetype": "text/x-python",
   "name": "python",
   "nbconvert_exporter": "python",
   "pygments_lexer": "ipython3",
   "version": "3.6.5"
  }
 },
 "nbformat": 4,
 "nbformat_minor": 2
}
