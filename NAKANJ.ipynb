{
 "cells": [
  {
   "cell_type": "code",
   "execution_count": 6,
   "metadata": {},
   "outputs": [],
   "source": [
    "import queue"
   ]
  },
  {
   "cell_type": "code",
   "execution_count": 25,
   "metadata": {},
   "outputs": [],
   "source": [
    "def knight_moves(curr_sqr):\n",
    "    result = []\n",
    "    y=curr_sqr[1]\n",
    "    x=curr_sqr[0]\n",
    "    if y+2<9:\n",
    "        if x-1>0:\n",
    "            result.append([y+2,x-1])\n",
    "        if x+1<9:\n",
    "            result.append([y+2,x+1])\n",
    "    if y+1<9:\n",
    "        if x-2>0:\n",
    "            result.append([y+1,x-2])\n",
    "        if x+2<9:\n",
    "            result.append([y+1,x+2])\n",
    "    if y-2>0:\n",
    "        if x-1>0:\n",
    "            result.append([y-2,x-1])\n",
    "        if x+1<9:\n",
    "            result.append([y-2,x+1])\n",
    "    if y-1>0:\n",
    "        if x-2>0:\n",
    "            result.append([y-1,x-2])\n",
    "        if x+2<9:\n",
    "            result.append([y-1,x+2])\n",
    "    return result"
   ]
  },
  {
   "cell_type": "code",
   "execution_count": 26,
   "metadata": {},
   "outputs": [],
   "source": [
    "def min_knight_moves(start,end):\n",
    "    Q = queue.deque() \n",
    "    dic = {}\n",
    "    for i in range(97,97+8):\n",
    "        dic[chr(i)] = i-96\n",
    "    start = [dic[start[0]],int(start[1])]\n",
    "    end = [dic[end[0]],int(end[1])]\n",
    "    start.append(0)\n",
    "    Q.append(start)\n",
    "    while Q:\n",
    "        curr_sqr = Q.popleft()\n",
    "        moves = knight_moves(curr_sqr)\n",
    "        for move in moves:\n",
    "            if move==end:\n",
    "                return curr_sqr[2]+1\n",
    "            else:\n",
    "                move.append(curr_sqr[2]+1)\n",
    "                Q.append(move)\n",
    "        \n",
    "    "
   ]
  },
  {
   "cell_type": "code",
   "execution_count": 30,
   "metadata": {},
   "outputs": [
    {
     "name": "stdout",
     "output_type": "stream",
     "text": [
      "3\n",
      "a1 h8\n",
      "6\n",
      "a1 c2\n",
      "1\n",
      "h8 c3\n",
      "4\n"
     ]
    }
   ],
   "source": [
    "T=int(input())\n",
    "for i in range(T):\n",
    "    start,end = input().strip().split()\n",
    "    print(min_knight_moves(start,end))"
   ]
  },
  {
   "cell_type": "code",
   "execution_count": null,
   "metadata": {},
   "outputs": [],
   "source": [
    "3\n",
    "a1 h8\n",
    "a1 c2\n",
    "h8 c3"
   ]
  }
 ],
 "metadata": {
  "kernelspec": {
   "display_name": "Python 3",
   "language": "python",
   "name": "python3"
  },
  "language_info": {
   "codemirror_mode": {
    "name": "ipython",
    "version": 3
   },
   "file_extension": ".py",
   "mimetype": "text/x-python",
   "name": "python",
   "nbconvert_exporter": "python",
   "pygments_lexer": "ipython3",
   "version": "3.6.4"
  }
 },
 "nbformat": 4,
 "nbformat_minor": 2
}
