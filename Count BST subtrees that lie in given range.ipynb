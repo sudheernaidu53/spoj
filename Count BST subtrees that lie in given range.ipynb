{
 "cells": [
  {
   "cell_type": "markdown",
   "metadata": {},
   "source": [
    "Given a Binary Search Tree (BST) of integer values and a range [low, high], return count of nodes where all the nodes under that node (or subtree rooted with that node) lie in the given range."
   ]
  },
  {
   "cell_type": "markdown",
   "metadata": {},
   "source": [
    "The idea is to traverse the given Binary Search Tree (BST) in bottom up manner. For every node, recur for its subtrees, if subtrees are in range and the nodes is also in range, then increment count and return true (to tell the parent about its status). Count is passed as a pointer so that it can be incremented across all function calls."
   ]
  },
  {
   "cell_type": "code",
   "execution_count": 3,
   "metadata": {},
   "outputs": [
    {
     "name": "stdout",
     "output_type": "stream",
     "text": [
      "Count of subtrees in [ 1 ,  45 ] is  [3]\n"
     ]
    }
   ],
   "source": [
    "class newNode: \n",
    "    def __init__(self, data): \n",
    "        self.data = data \n",
    "        self.left = None\n",
    "        self.right = None\n",
    "        \n",
    "def inRange(root, low, high): \n",
    "    return root.data >= low and root.data <= high \n",
    "\n",
    "# A recursive function to get count of nodes whose subtree is in range from low to high. \n",
    "# This function returns true if nodes in subtree rooted under 'root' are in range. \n",
    "def getCountUtil(root, low, high, count): \n",
    "    \n",
    "    # Base case \n",
    "    if root == None: \n",
    "        return True\n",
    "\n",
    "    # Recur for left and right subtrees \n",
    "    l = getCountUtil(root.left, low, high, count) \n",
    "    r = getCountUtil(root.right, low, high, count) \n",
    "\n",
    "    # If both left and right subtrees are in range  and current node is also in range, then increment count and return true \n",
    "    if l and r and inRange(root, low, high): \n",
    "        count[0] += 1\n",
    "        return True\n",
    "\n",
    "    return False\n",
    "\n",
    "# A wrapper over getCountUtil(). This function \n",
    "# initializes count as 0 and calls getCountUtil() \n",
    "def getCount(root, low, high): \n",
    "    count = [0] \n",
    "    getCountUtil(root, low, high, count) \n",
    "    return count \n",
    "\n",
    "# Driver Code \n",
    "if __name__ == '__main__': \n",
    "    \n",
    "    # Let us construct the BST shown in \n",
    "    # the above figure \n",
    "    root = newNode(10) \n",
    "    root.left = newNode(5) \n",
    "    root.right = newNode(50) \n",
    "    root.left.left = newNode(1) \n",
    "    root.right.left = newNode(40) \n",
    "    root.right.right = newNode(100) \n",
    "    \n",
    "    # Let us constructed BST shown in above example \n",
    "    # 10 \n",
    "    # / \\ \n",
    "    # 5     50 \n",
    "    # /     / \\ \n",
    "    # 1     40 100 \n",
    "    l = 1\n",
    "    h = 45\n",
    "    print(\"Count of subtrees in [\", l, \", \", h, \"] is \", \n",
    "                                getCount(root, l, h)) \n",
    "\n",
    "# This code is contributed by PranchalK \n"
   ]
  },
  {
   "cell_type": "code",
   "execution_count": null,
   "metadata": {},
   "outputs": [],
   "source": []
  }
 ],
 "metadata": {
  "kernelspec": {
   "display_name": "Python 3",
   "language": "python",
   "name": "python3"
  },
  "language_info": {
   "codemirror_mode": {
    "name": "ipython",
    "version": 3
   },
   "file_extension": ".py",
   "mimetype": "text/x-python",
   "name": "python",
   "nbconvert_exporter": "python",
   "pygments_lexer": "ipython3",
   "version": "3.6.4"
  }
 },
 "nbformat": 4,
 "nbformat_minor": 2
}
