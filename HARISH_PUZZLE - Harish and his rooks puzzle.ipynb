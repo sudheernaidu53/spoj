{
 "cells": [
  {
   "cell_type": "markdown",
   "metadata": {},
   "source": [
    "# HARISH_PUZZLE - Harish and his rooks puzzle\n"
   ]
  },
  {
   "cell_type": "markdown",
   "metadata": {},
   "source": [
    "Harish  is playing Eight Rooks Puzzle. In this puzzle, he must put exactly eight rooks onto an 8x8 chessboard. No two rooks must be in the same row, and no two rooks must be in the same column.           \n",
    "\n",
    "                                You are given a 8 x 8 board. The j-th column of the i-th row of board is either 'R' or '.'. If this is 'R', the cell in row i, column j contains a rook. Otherwise the cell doesn't contain a rook. Determine whether Harish solved the puzzle correctly. If he solved the puzzle correctly, print \"YES\". Otherwise print \"NO\"."
   ]
  },
  {
   "cell_type": "markdown",
   "metadata": {},
   "source": [
    "#### Input\n",
    "T -Number of test cases\n",
    "\n",
    "Each test case contains a 8 X 8 character array indicating the chess board.\n",
    "\n",
    "Each character in board will be either 'R' or '.'\n",
    "\n",
    "#### Output\n",
    "YES or NO indicating whether he has solved the puzzle."
   ]
  },
  {
   "cell_type": "code",
   "execution_count": 1,
   "metadata": {},
   "outputs": [
    {
     "ename": "SyntaxError",
     "evalue": "invalid syntax (<ipython-input-1-3062c081a77b>, line 2)",
     "output_type": "error",
     "traceback": [
      "\u001b[1;36m  File \u001b[1;32m\"<ipython-input-1-3062c081a77b>\"\u001b[1;36m, line \u001b[1;32m2\u001b[0m\n\u001b[1;33m    Input:\u001b[0m\n\u001b[1;37m          ^\u001b[0m\n\u001b[1;31mSyntaxError\u001b[0m\u001b[1;31m:\u001b[0m invalid syntax\n"
     ]
    }
   ],
   "source": [
    "Example\n",
    "Input:\n",
    "\n",
    "2\n",
    "\n",
    "R.......\n",
    "\n",
    ".R......\n",
    "\n",
    "..R.....\n",
    "\n",
    "...R....\n",
    "\n",
    "....R...\n",
    "\n",
    ".....R..\n",
    "\n",
    "......R.\n",
    "\n",
    ".......R\n",
    "\n",
    " \n",
    "\n",
    " \n",
    "\n",
    "......R.....R......R.....R......R..............R..R............R\n",
    "......R.\n",
    "\n",
    "....R...\n",
    "\n",
    "...R....\n",
    "\n",
    ".R......\n",
    "\n",
    "R.......\n",
    "\n",
    ".......R\n",
    "\n",
    "..R.....\n",
    "\n",
    ".......R\n",
    "\n",
    " \n",
    "\n",
    " \n",
    "\n",
    "Output: \n",
    "\n",
    "YES\n",
    "\n",
    "NO\n",
    "\n",
    " "
   ]
  },
  {
   "cell_type": "code",
   "execution_count": 2,
   "metadata": {},
   "outputs": [
    {
     "data": {
      "text/plain": [
       "1"
      ]
     },
     "execution_count": 2,
     "metadata": {},
     "output_type": "execute_result"
    }
   ],
   "source": [
    "'isgood'.count('s')"
   ]
  },
  {
   "cell_type": "code",
   "execution_count": 3,
   "metadata": {},
   "outputs": [
    {
     "name": "stdout",
     "output_type": "stream",
     "text": [
      "False\n"
     ]
    }
   ],
   "source": [
    "print(False)\n",
    "\n",
    "..R.....\n",
    "\n",
    "...R....\n",
    "\n",
    "....R...\n",
    "\n",
    ".....R..\n",
    "\n",
    "......R.\n",
    "\n",
    ".......R"
   ]
  },
  {
   "cell_type": "code",
   "execution_count": 1,
   "metadata": {},
   "outputs": [],
   "source": [
    "def greedyrooks(chessboard):\n",
    "    column = [0]*8\n",
    "    row = [0]*8\n",
    "    for i in range(8):\n",
    "        column [i] = chessboard\n",
    "    \n",
    "#     for i in range(8):\n",
    "#         if (list(chessboard[i]).count('R') == 1):\n",
    "#             continue\n",
    "#         else:\n",
    "#             return False\n",
    "#         if (list(chessboard.T)[i].count('R') == 1):\n",
    "#             continue\n",
    "#         else:\n",
    "#             return False\n",
    "#     return True"
   ]
  },
  {
   "cell_type": "code",
   "execution_count": 2,
   "metadata": {},
   "outputs": [
    {
     "name": "stdout",
     "output_type": "stream",
     "text": [
      ".....R..\n",
      "..R.....\n",
      "..R......\n",
      "..R.....\n",
      ".R.....\n",
      ".R......\n",
      ".RR.....\n",
      "...R....\n"
     ]
    },
    {
     "data": {
      "text/plain": [
       "False"
      ]
     },
     "execution_count": 2,
     "metadata": {},
     "output_type": "execute_result"
    }
   ],
   "source": [
    "chessboard = [[0]*8 for i in range(8)]\n",
    "for i in range(8):\n",
    "    chessboard[i] = input()\n",
    "greedyrooks(chessboard)"
   ]
  },
  {
   "cell_type": "code",
   "execution_count": 10,
   "metadata": {},
   "outputs": [
    {
     "name": "stdout",
     "output_type": "stream",
     "text": [
      "1\n",
      "R.......\n",
      "R.......\n",
      "R.......\n",
      "R.......\n",
      "R.......\n",
      "R.......\n",
      "R.......\n",
      "R.......\n",
      "True\n"
     ]
    }
   ],
   "source": [
    "T = int(input())\n",
    "for i in range(T):\n",
    "    chessboard = [0]*8\n",
    "    for i in range(8):\n",
    "        chessboard[i] = (input())\n",
    "#         chessboard = numpy.array(chessboard)\n",
    "    print(greedyrooks(chessboard))\n",
    "   "
   ]
  },
  {
   "cell_type": "code",
   "execution_count": 12,
   "metadata": {},
   "outputs": [
    {
     "data": {
      "text/plain": [
       "'R.......'"
      ]
     },
     "execution_count": 12,
     "metadata": {},
     "output_type": "execute_result"
    }
   ],
   "source": [
    "chessboard[:][1]"
   ]
  },
  {
   "cell_type": "code",
   "execution_count": 35,
   "metadata": {},
   "outputs": [],
   "source": [
    "arr = numpy.array([['.', '.', '.', '.', 'R', '.', '.', '.'], ['.', '.', '.', '.', 'R', '.', '.', '.'], ['.', '.', '.', '.', 'R', '.', '.', '.'], ['.', '.', '.', '.', 'R', '.', '.', '.'], ['.', '.', '.', '.', 'R', '.', '.', '.'], ['.', '.', '.', '.', 'R', '.', '.', '.'], ['.', '.', '.', '.', 'R', '.', '.', '.'], ['.', '.', '.', '.', 'R', '.', '.', '.']])"
   ]
  },
  {
   "cell_type": "code",
   "execution_count": 36,
   "metadata": {},
   "outputs": [
    {
     "data": {
      "text/plain": [
       "array([['.', '.', '.', '.', '.', '.', '.', '.'],\n",
       "       ['.', '.', '.', '.', '.', '.', '.', '.'],\n",
       "       ['.', '.', '.', '.', '.', '.', '.', '.'],\n",
       "       ['.', '.', '.', '.', '.', '.', '.', '.'],\n",
       "       ['R', 'R', 'R', 'R', 'R', 'R', 'R', 'R'],\n",
       "       ['.', '.', '.', '.', '.', '.', '.', '.'],\n",
       "       ['.', '.', '.', '.', '.', '.', '.', '.'],\n",
       "       ['.', '.', '.', '.', '.', '.', '.', '.']], dtype='<U1')"
      ]
     },
     "execution_count": 36,
     "metadata": {},
     "output_type": "execute_result"
    }
   ],
   "source": [
    "arr.T"
   ]
  },
  {
   "cell_type": "code",
   "execution_count": null,
   "metadata": {},
   "outputs": [],
   "source": []
  }
 ],
 "metadata": {
  "kernelspec": {
   "display_name": "Python 3",
   "language": "python",
   "name": "python3"
  },
  "language_info": {
   "codemirror_mode": {
    "name": "ipython",
    "version": 3
   },
   "file_extension": ".py",
   "mimetype": "text/x-python",
   "name": "python",
   "nbconvert_exporter": "python",
   "pygments_lexer": "ipython3",
   "version": "3.7.3"
  }
 },
 "nbformat": 4,
 "nbformat_minor": 2
}
