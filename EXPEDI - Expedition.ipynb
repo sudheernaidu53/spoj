{
 "cells": [
  {
   "cell_type": "code",
   "execution_count": null,
   "metadata": {},
   "outputs": [],
   "source": [
    "def greedy(distance,fuel):\n",
    "    count=0\n",
    "    if sum(distance)>sum(fuel):\n",
    "        return -1\n",
    "    else:\n",
    "        l =len(fuel)\n",
    "        curr_dist = distance[-1]\n",
    "        curr_fuel = fuel[-1]\n",
    "    for i in range(l):\n",
    "        if (curr_dist-fuel[l-i])>curr_fuel:\n",
    "            return -1\n",
    "        else: "
   ]
  }
 ],
 "metadata": {
  "kernelspec": {
   "display_name": "Python 3",
   "language": "python",
   "name": "python3"
  },
  "language_info": {
   "codemirror_mode": {
    "name": "ipython",
    "version": 3
   },
   "file_extension": ".py",
   "mimetype": "text/x-python",
   "name": "python",
   "nbconvert_exporter": "python",
   "pygments_lexer": "ipython3",
   "version": "3.7.3"
  }
 },
 "nbformat": 4,
 "nbformat_minor": 2
}
