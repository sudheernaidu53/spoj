{
 "cells": [
  {
   "cell_type": "markdown",
   "metadata": {},
   "source": [
    "[link](https://www.spoj.com/problems/BUGLIFE/)"
   ]
  },
  {
   "cell_type": "markdown",
   "metadata": {},
   "source": [
    "The first line of the input contains the number of scenarios. Each scenario starts with one line giving the number of bugs (at least one, and up to 2000) and the number of interactions (up to 1000000) separated by a single space. In the following lines, each interaction is given in the form of two distinct bug numbers separated by a single space. Bugs are numbered consecutively starting from one.m"
   ]
  },
  {
   "cell_type": "code",
   "execution_count": null,
   "metadata": {},
   "outputs": [],
   "source": [
    "Input:\n",
    "\n",
    "2\n",
    "3 3\n",
    "1 2\n",
    "2 3\n",
    "1 3\n",
    "4 2\n",
    "1 2\n",
    "3 4\n",
    "\n",
    "Output: \n",
    "“Scenario #i:”\n",
    "Scenario #1:\n",
    "Suspicious bugs found!\n",
    "Scenario #2:\n",
    "No suspicious bugs found!"
   ]
  },
  {
   "cell_type": "markdown",
   "metadata": {},
   "source": [
    "this is a bipartite problem, if it's not bipartite then there are homos, else they are not. simple is use BFS"
   ]
  },
  {
   "cell_type": "markdown",
   "metadata": {},
   "source": [
    "### bfs"
   ]
  },
  {
   "cell_type": "markdown",
   "metadata": {},
   "source": [
    "In general, when the bfs reaches a node, you go through its neighbours and check if any of them is already visited and on the same side as your node is. Then, the graph is not bipartite. If you reach the end of the bfs with no errors, then the graph is bipartite"
   ]
  },
  {
   "cell_type": "markdown",
   "metadata": {},
   "source": [
    "### dfs"
   ]
  },
  {
   "cell_type": "markdown",
   "metadata": {},
   "source": [
    "* Use a color[] array which stores 0 or 1 for every node which denotes opposite colors.\n",
    "* Call the function DFS from any node.\n",
    "* If the node u has not been visited previously, then assign !color[v] to color[u] and call DFS again to visit nodes connected to u.\n",
    "* If at any point, color[u] is equal to !color[v], then the node is bipartite.\n",
    "\n",
    "Modify the DFS function such that it returns a boolean value at the end."
   ]
  },
  {
   "cell_type": "code",
   "execution_count": 38,
   "metadata": {},
   "outputs": [
    {
     "data": {
      "text/plain": [
       "0"
      ]
     },
     "execution_count": 38,
     "metadata": {},
     "output_type": "execute_result"
    }
   ],
   "source": [
    "[1,2,3,1].index(1)"
   ]
  },
  {
   "cell_type": "code",
   "execution_count": 67,
   "metadata": {},
   "outputs": [],
   "source": [
    "class Graph():\n",
    "    \n",
    "    def __init__(self, V,adj_list): \n",
    "        self.V = V \n",
    "        self.adj_list = adj_list\n",
    "  \n",
    "    def isBipartite(self): \n",
    "        #shifting everything because I am using 1 indexing. as that is better for input\n",
    "        src = 1\n",
    "        visited = [0] * (self.V +1)\n",
    "        visited[0]=1\n",
    "#         visited[src] = 1\n",
    "  \n",
    "        # enqueue source vertex for BFS traversal \n",
    "        queue = [] \n",
    "#         queue.insert(0,src) \n",
    "  \n",
    "        # to cover all disjoint components, cuz graph can have many components\n",
    "#         while ((not queue) and visited.index(0)):\n",
    "        for k in range(1,self.V+1):\n",
    "            if not visited[k]:\n",
    "                queue.insert(0,k)\n",
    "                visited[k]=1\n",
    "#             queue.insert(0,visited.index(0))\n",
    "#             visited[visited.index(0)] = 1\n",
    "            #until queue is empty, BFS)\n",
    "            while queue:\n",
    "                u = queue.pop() \n",
    "\n",
    "                # Return false if there is a self-loop \n",
    "                if u in self.adj_list[u]: \n",
    "                    return False\n",
    "\n",
    "                for v in (self.adj_list[u]): \n",
    "#                     print(self.adj_list[u],visited[u],visited[v])\n",
    "                    if not visited[v]: \n",
    "\n",
    "                        # Assign alternate number to this adjacent v of u \n",
    "                        visited[v] = -visited[u] \n",
    "                        queue.insert(0,v) \n",
    "\n",
    "                    elif visited[v] == visited[u]: \n",
    "                        return False\n",
    "\n",
    "        return True\n",
    "    \n",
    "adj_list = [[],[2,3],[1],[1]] \n",
    "g = Graph(3,adj_list) "
   ]
  },
  {
   "cell_type": "code",
   "execution_count": 68,
   "metadata": {},
   "outputs": [
    {
     "data": {
      "text/plain": [
       "True"
      ]
     },
     "execution_count": 68,
     "metadata": {},
     "output_type": "execute_result"
    }
   ],
   "source": [
    "g.isBipartite()"
   ]
  },
  {
   "cell_type": "code",
   "execution_count": 82,
   "metadata": {},
   "outputs": [],
   "source": [
    "def bugging_me(T):\n",
    "    for test in range(T):\n",
    "        bugs,relations = map(int,input().strip().split())\n",
    "        adj_list = [[] for i in range(bugs+1)]\n",
    "        for i in range(relations):\n",
    "            a,b = map(int,input().strip().split())\n",
    "            adj_list[a].append(b)\n",
    "            adj_list[b].append(a)\n",
    "        g = Graph(bugs,adj_list)\n",
    "        print('Scenario #{}:'.format(test+1))\n",
    "        if g.isBipartite():\n",
    "            print('No suspicious bugs found!')\n",
    "        else:\n",
    "            print('Suspicious bugs found!')\n",
    "    return None\n"
   ]
  },
  {
   "cell_type": "code",
   "execution_count": 83,
   "metadata": {},
   "outputs": [
    {
     "name": "stdout",
     "output_type": "stream",
     "text": [
      "2 \n",
      "3 3\n",
      "1 2\n",
      "1 3\n",
      "2 3\n",
      "Scenario #1:\n",
      "Suspicious bugs found!\n",
      "4 2\n",
      "1 2\n",
      "3 4\n",
      "Scenario #2:\n",
      "No suspicious bugs found!\n"
     ]
    }
   ],
   "source": [
    "T = int(input())\n",
    "bugging_me(T)"
   ]
  },
  {
   "cell_type": "code",
   "execution_count": 85,
   "metadata": {},
   "outputs": [
    {
     "name": "stdout",
     "output_type": "stream",
     "text": [
      "Overwriting buglife.py\n"
     ]
    }
   ],
   "source": [
    "%%writefile buglife.py\n",
    "class Graph():\n",
    "    \n",
    "    def __init__(self, V,adj_list): \n",
    "        self.V = V \n",
    "        self.adj_list = adj_list\n",
    "  \n",
    "    def isBipartite(self): \n",
    "        #shifting everything because I am using 1 indexing. as that is better for input\n",
    "        src = 1\n",
    "        visited = [0] * (self.V +1)\n",
    "        visited[0]=1\n",
    "#         visited[src] = 1\n",
    "  \n",
    "        # enqueue source vertex for BFS traversal \n",
    "        queue = [] \n",
    "#         queue.insert(0,src) \n",
    "  \n",
    "        # to cover all disjoint components, cuz graph can have many components\n",
    "#         while ((not queue) and visited.index(0)):\n",
    "        for k in range(1,self.V+1):\n",
    "            if not visited[k]:\n",
    "                queue.insert(0,k)\n",
    "                visited[k]=1\n",
    "#             queue.insert(0,visited.index(0))\n",
    "#             visited[visited.index(0)] = 1\n",
    "            #until queue is empty, BFS)\n",
    "            while queue:\n",
    "                u = queue.pop() \n",
    "\n",
    "                # Return false if there is a self-loop \n",
    "                if u in self.adj_list[u]: \n",
    "                    return False\n",
    "\n",
    "                for v in (self.adj_list[u]): \n",
    "#                     print(self.adj_list[u],visited[u],visited[v])\n",
    "                    if not visited[v]: \n",
    "\n",
    "                        # Assign alternate number to this adjacent v of u \n",
    "                        visited[v] = -visited[u] \n",
    "                        queue.insert(0,v) \n",
    "\n",
    "                    elif visited[v] == visited[u]: \n",
    "                        return False\n",
    "\n",
    "        return True\n",
    "    \n",
    "# adj_list = [[],[2,3],[1],[1]] \n",
    "# g = Graph(3,adj_list) \n",
    "def bugging_me(T):\n",
    "    for test in range(T):\n",
    "        bugs,relations = map(int,input().strip().split())\n",
    "        adj_list = [[] for i in range(bugs+1)]\n",
    "        for i in range(relations):\n",
    "            a,b = map(int,input().strip().split())\n",
    "            adj_list[a].append(b)\n",
    "            adj_list[b].append(a)\n",
    "        g = Graph(bugs,adj_list)\n",
    "        print('Scenario #{}:'.format(test+1))\n",
    "        if g.isBipartite():\n",
    "            print('No suspicious bugs found!')\n",
    "        else:\n",
    "            print('Suspicious bugs found!')\n",
    "            \n",
    "    return \n",
    "T = int(input())\n",
    "bugging_me(T)"
   ]
  },
  {
   "cell_type": "code",
   "execution_count": null,
   "metadata": {},
   "outputs": [],
   "source": []
  }
 ],
 "metadata": {
  "kernelspec": {
   "display_name": "Python 3",
   "language": "python",
   "name": "python3"
  },
  "language_info": {
   "codemirror_mode": {
    "name": "ipython",
    "version": 3
   },
   "file_extension": ".py",
   "mimetype": "text/x-python",
   "name": "python",
   "nbconvert_exporter": "python",
   "pygments_lexer": "ipython3",
   "version": "3.6.5"
  }
 },
 "nbformat": 4,
 "nbformat_minor": 2
}
