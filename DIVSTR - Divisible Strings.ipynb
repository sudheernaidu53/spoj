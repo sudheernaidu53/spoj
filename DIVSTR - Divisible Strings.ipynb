{
 "cells": [
  {
   "cell_type": "code",
   "execution_count": 9,
   "metadata": {},
   "outputs": [],
   "source": [
    "def greedy(s1,s2):\n",
    "    pointer = 0\n",
    "    count=0\n",
    "    if len(s1)<len(s2):\n",
    "        return len(s1)\n",
    "    for i in range(len(s1)):\n",
    "        if s1[i]==s2[pointer]:\n",
    "#             print('k')\n",
    "            pointer+=1\n",
    "            if pointer==len(s2):\n",
    "#                 print('l')\n",
    "                pointer=0\n",
    "                count+=1\n",
    "    return len(s1)-count*len(s2)\n",
    "        "
   ]
  },
  {
   "cell_type": "code",
   "execution_count": 16,
   "metadata": {},
   "outputs": [
    {
     "name": "stdout",
     "output_type": "stream",
     "text": [
      "abkaaka\n",
      "aka\n"
     ]
    }
   ],
   "source": [
    "# string1 = input()\n",
    "# string2 = input()"
   ]
  },
  {
   "cell_type": "code",
   "execution_count": 17,
   "metadata": {},
   "outputs": [
    {
     "data": {
      "text/plain": [
       "1"
      ]
     },
     "execution_count": 17,
     "metadata": {},
     "output_type": "execute_result"
    }
   ],
   "source": [
    "greedy(string1,string2)"
   ]
  },
  {
   "cell_type": "code",
   "execution_count": 18,
   "metadata": {},
   "outputs": [
    {
     "name": "stdout",
     "output_type": "stream",
     "text": [
      "1\n",
      "abka\n",
      "aka\n",
      "1\n"
     ]
    }
   ],
   "source": [
    "T = int(input())\n",
    "for i in range(T):\n",
    "    s1 = input()\n",
    "    s2 = input()\n",
    "    print(greedy(s1,s2))"
   ]
  },
  {
   "cell_type": "code",
   "execution_count": null,
   "metadata": {},
   "outputs": [],
   "source": []
  }
 ],
 "metadata": {
  "kernelspec": {
   "display_name": "Python 3",
   "language": "python",
   "name": "python3"
  },
  "language_info": {
   "codemirror_mode": {
    "name": "ipython",
    "version": 3
   },
   "file_extension": ".py",
   "mimetype": "text/x-python",
   "name": "python",
   "nbconvert_exporter": "python",
   "pygments_lexer": "ipython3",
   "version": "3.7.3"
  }
 },
 "nbformat": 4,
 "nbformat_minor": 2
}
