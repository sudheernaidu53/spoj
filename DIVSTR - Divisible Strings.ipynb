{
 "cells": [
  {
   "cell_type": "markdown",
   "metadata": {},
   "source": [
    "# DIVSTR - Divisible Strings\n"
   ]
  },
  {
   "cell_type": "markdown",
   "metadata": {},
   "source": [
    "Mathematicians have always loved generalizing mathematics to everything. They even contributed lots of optimizations and valuable formulas to Computer Science. Have you heard about String Multiplication? What do you think will happen if we write the following code in python?\n",
    "\n",
    "print (3 * “abc”);\n",
    "\n",
    "As you might have guessed, it prints “abcabcabc”. It is equal to print(“abc” + “abc” + “abc”);\n",
    "\n",
    "We define string S is divisible by string T, if there is some non-negative integer k, which satisfies the equation S=k*T .\n",
    "\n",
    "Your task is simple. Given two strings S and T. What is the minimum number of characters which should be removed from S, so S is divisible by T?"
   ]
  },
  {
   "cell_type": "markdown",
   "metadata": {},
   "source": [
    "### Input\n",
    "The first line of the input contains Q the number of the test cases. (1≤Q≤100)\n",
    "\n",
    "Each test case consists of two lines. \n",
    "\n",
    "The first line contains string S consisting of lowercase English letters. (0≤|S|≤104)\n",
    "\n",
    "The second line contains string T consisting of lowercase English letters. (0<|T|≤104)"
   ]
  },
  {
   "cell_type": "markdown",
   "metadata": {},
   "source": [
    "### Output\n",
    "For each test case print a single integer, the minimum number of characters which should be removed."
   ]
  },
  {
   "cell_type": "code",
   "execution_count": 29,
   "metadata": {},
   "outputs": [
    {
     "ename": "SyntaxError",
     "evalue": "invalid syntax (<ipython-input-29-22e1ba4f1661>, line 1)",
     "output_type": "error",
     "traceback": [
      "\u001b[1;36m  File \u001b[1;32m\"<ipython-input-29-22e1ba4f1661>\"\u001b[1;36m, line \u001b[1;32m1\u001b[0m\n\u001b[1;33m    Input:\u001b[0m\n\u001b[1;37m          ^\u001b[0m\n\u001b[1;31mSyntaxError\u001b[0m\u001b[1;31m:\u001b[0m invalid syntax\n"
     ]
    }
   ],
   "source": [
    "Input:\n",
    "4\n",
    "babbaba\n",
    "ab\n",
    "dictate\n",
    "acid\n",
    "\n",
    "abc\n",
    "p\n",
    "q\n",
    "\n",
    "Output:\n",
    "3\n",
    "7\n",
    "0\n",
    "1"
   ]
  },
  {
   "cell_type": "markdown",
   "metadata": {},
   "source": [
    "# idea\n",
    "keep matching first string with second string, whenever there are instances of string2 in string2 increase the cpunt,when some letter mismatches, go check with the first letter of string2.\n",
    "\n",
    "final answer will be len(string1)-len(string2)*count"
   ]
  },
  {
   "cell_type": "code",
   "execution_count": 6,
   "metadata": {},
   "outputs": [],
   "source": [
    "def no_of_letters(string1,string2):\n",
    "#     print(len(string1),len(string2))\n",
    "    count = 0 \n",
    "    pointer = 0\n",
    "    if len(string1)<len(string2):\n",
    "        return len(string1)\n",
    "    if (len(string1)==len(string2)) and (string1!=string2):\n",
    "        return len(string1)\n",
    "#     print('yay') these lines are fine\n",
    "    for j in range(len(string1)):\n",
    "#         if pointer==(len(string2)):\n",
    "#             print('yae')\n",
    "#             count+=1\n",
    "#             pointer=0\n",
    "        if (string1[j]==string2[pointer]) and pointer<(len(string2)-1):\n",
    "#             print(j,string1[j],string2[pointer],pointer,len(string2))\n",
    "#             print('yau')\n",
    "            pointer+=1\n",
    "        elif (string1[j]==string2[pointer]) and pointer == (len(string2)-1):\n",
    "#             print('yae')\n",
    "            count+=1\n",
    "            pointer=0\n",
    "        elif (string1[j]!=string2[pointer]):\n",
    "            if string1[j]==string2[0]:\n",
    "#                 print('say')\n",
    "                pointer=1\n",
    "            else:\n",
    "#                 print('sup')\n",
    "                pointer = 0\n",
    "    return len(string1)-len(string2)*count"
   ]
  },
  {
   "cell_type": "code",
   "execution_count": 7,
   "metadata": {},
   "outputs": [],
   "source": [
    "# [j for j in range(10)]"
   ]
  },
  {
   "cell_type": "code",
   "execution_count": 10,
   "metadata": {},
   "outputs": [
    {
     "name": "stdout",
     "output_type": "stream",
     "text": [
      "1\n",
      "1\n",
      "11\n",
      "1\n"
     ]
    }
   ],
   "source": [
    "T = int(input())\n",
    "for i in range(T):\n",
    "    string1 = input()\n",
    "#     print(type(string1))\n",
    "    string2 = input()\n",
    "    print(no_of_letters(string1,string2))"
   ]
  },
  {
   "cell_type": "code",
   "execution_count": 12,
   "metadata": {},
   "outputs": [
    {
     "data": {
      "text/plain": [
       "True"
      ]
     },
     "execution_count": 12,
     "metadata": {},
     "output_type": "execute_result"
    }
   ],
   "source": [
    "'a'!='b'"
   ]
  },
  {
   "cell_type": "code",
   "execution_count": null,
   "metadata": {},
   "outputs": [],
   "source": []
  }
 ],
 "metadata": {
  "kernelspec": {
   "display_name": "Python 3",
   "language": "python",
   "name": "python3"
  }
 },
 "nbformat": 4,
 "nbformat_minor": 2
}
