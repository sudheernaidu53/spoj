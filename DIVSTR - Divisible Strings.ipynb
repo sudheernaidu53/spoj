{
 "cells": [
  {
   "cell_type": "markdown",
   "metadata": {},
   "source": [
    "# DIVSTR - Divisible Strings\n"
   ]
  },
  {
   "cell_type": "markdown",
   "metadata": {},
   "source": [
    "Mathematicians have always loved generalizing mathematics to everything. They even contributed lots of optimizations and valuable formulas to Computer Science. Have you heard about String Multiplication? What do you think will happen if we write the following code in python?\n",
    "\n",
    "print (3 * “abc”);\n",
    "\n",
    "As you might have guessed, it prints “abcabcabc”. It is equal to print(“abc” + “abc” + “abc”);\n",
    "\n",
    "We define string S is divisible by string T, if there is some non-negative integer k, which satisfies the equation S=k*T .\n",
    "\n",
    "Your task is simple. Given two strings S and T. What is the minimum number of characters which should be removed from S, so S is divisible by T?"
   ]
  },
  {
   "cell_type": "markdown",
   "metadata": {},
   "source": [
    "### Input\n",
    "The first line of the input contains Q the number of the test cases. (1≤Q≤100)\n",
    "\n",
    "Each test case consists of two lines. \n",
    "\n",
    "The first line contains string S consisting of lowercase English letters. (0≤|S|≤104)\n",
    "\n",
    "The second line contains string T consisting of lowercase English letters. (0<|T|≤104)"
   ]
  },
  {
   "cell_type": "markdown",
   "metadata": {},
   "source": [
    "### Output\n",
    "For each test case print a single integer, the minimum number of characters which should be removed."
   ]
  },
  {
   "cell_type": "code",
   "execution_count": 29,
   "metadata": {},
   "outputs": [
    {
     "ename": "SyntaxError",
     "evalue": "invalid syntax (<ipython-input-29-22e1ba4f1661>, line 1)",
     "output_type": "error",
     "traceback": [
      "\u001b[1;36m  File \u001b[1;32m\"<ipython-input-29-22e1ba4f1661>\"\u001b[1;36m, line \u001b[1;32m1\u001b[0m\n\u001b[1;33m    Input:\u001b[0m\n\u001b[1;37m          ^\u001b[0m\n\u001b[1;31mSyntaxError\u001b[0m\u001b[1;31m:\u001b[0m invalid syntax\n"
     ]
    }
   ],
   "source": [
    "Input:\n",
    "4\n",
    "babbaba\n",
    "ab\n",
    "dictate\n",
    "acid\n",
    "\n",
    "abc\n",
    "p\n",
    "q\n",
    "\n",
    "Output:\n",
    "3\n",
    "7\n",
    "0\n",
    "1"
   ]
  },
  {
   "cell_type": "markdown",
   "metadata": {},
   "source": [
    "# idea\n",
    "keep matching first string with second string, whenever there are instances of string2 in string1 increase the cpunt,when some letter mismatches, don't go check with the first letter of string2. keep pointer the same because the letter you are looking for, if found, will add the same count if yo go to start or not, actually it might not if you make pointer 0\n",
    "\n",
    "ex: s1 = akba, s2 = aka after checking first two letters, if you go to check third letter of s1 with first letter of s2, it's gone. cuz then at the end you have s2 matched only till 1. \n",
    "\n",
    "final answer will be len(string1)-len(string2)*count"
   ]
  },
  {
   "cell_type": "code",
   "execution_count": 9,
   "metadata": {},
   "outputs": [],
   "source": [
    "def greedy(s1,s2):\n",
    "    pointer = 0\n",
    "    count=0\n",
    "    if len(s1)<len(s2):\n",
    "        return len(s1)\n",
    "    for i in range(len(s1)):\n",
    "        if s1[i]==s2[pointer]:\n",
    "#             print('k')\n",
    "            pointer+=1\n",
    "            if pointer==len(s2):\n",
    "#                 print('l')\n",
    "                pointer=0\n",
    "                count+=1\n",
    "    return len(s1)-count*len(s2)\n",
    "        "
   ]
  },
  {
   "cell_type": "code",
   "execution_count": 16,
   "metadata": {},
   "outputs": [
    {
     "name": "stdout",
     "output_type": "stream",
     "text": [
      "abkaaka\n",
      "aka\n"
     ]
    }
   ],
   "source": [
    "# string1 = input()\n",
    "# string2 = input()"
   ]
  },
  {
   "cell_type": "code",
   "execution_count": 17,
   "metadata": {},
   "outputs": [
    {
     "data": {
      "text/plain": [
       "1"
      ]
     },
     "execution_count": 17,
     "metadata": {},
     "output_type": "execute_result"
    }
   ],
   "source": [
    "greedy(string1,string2)"
   ]
  },
  {
   "cell_type": "code",
   "execution_count": 18,
   "metadata": {},
   "outputs": [
    {
     "name": "stdout",
     "output_type": "stream",
     "text": [
      "1\n",
      "abka\n",
      "aka\n",
      "1\n"
     ]
    }
   ],
   "source": [
    "T = int(input())\n",
    "for i in range(T):\n",
    "    s1 = input()\n",
    "    s2 = input()\n",
    "    print(greedy(s1,s2))"
   ]
  },
  {
   "cell_type": "code",
   "execution_count": null,
   "metadata": {},
   "outputs": [],
   "source": []
  }
 ],
 "metadata": {
  "kernelspec": {
   "display_name": "Python 3",
   "language": "python",
   "name": "python3"
  },
  "language_info": {
   "codemirror_mode": {
    "name": "ipython",
    "version": 3
   },
   "file_extension": ".py",
   "mimetype": "text/x-python",
   "name": "python",
   "nbconvert_exporter": "python",
   "pygments_lexer": "ipython3",
   "version": "3.6.5"
  }
 },
 "nbformat": 4,
 "nbformat_minor": 2
}
