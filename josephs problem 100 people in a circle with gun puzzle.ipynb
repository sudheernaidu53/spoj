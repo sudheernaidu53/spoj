{
 "cells": [
  {
   "cell_type": "markdown",
   "metadata": {},
   "source": [
    "# mechanically kill people to find the answer"
   ]
  },
  {
   "cell_type": "code",
   "execution_count": 1,
   "metadata": {},
   "outputs": [],
   "source": [
    "def josephmech(n):\n",
    "    lis = list(range(1,n+1))\n",
    "    while len(lis)>1:\n",
    "        if len(lis)%2 == 0:\n",
    "            lis = lis[::2] #omitting every second number\n",
    "    #         print(lis) #to check the answer\n",
    "        elif len(lis)%2 ==1:\n",
    "            last = lis[-1] #last one won't be killed\n",
    "            lis = lis[:-2:2]\n",
    "            lis.insert(0,last) # adding the last to the start\n",
    "    #         print(lis) #to check the answer\n",
    "    return lis[0]"
   ]
  },
  {
   "cell_type": "code",
   "execution_count": 2,
   "metadata": {
    "scrolled": true
   },
   "outputs": [
    {
     "name": "stdout",
     "output_type": "stream",
     "text": [
      "602 µs ± 34.2 µs per loop (mean ± std. dev. of 7 runs, 1000 loops each)\n"
     ]
    }
   ],
   "source": [
    "%%timeit\n",
    "(josephmech(10000))"
   ]
  },
  {
   "cell_type": "markdown",
   "metadata": {},
   "source": [
    "# use powers of 2, to do it a little faster"
   ]
  },
  {
   "cell_type": "code",
   "execution_count": 3,
   "metadata": {},
   "outputs": [],
   "source": [
    "def joseph_use_power_2(n):\n",
    "    k = 0\n",
    "    while 2**(k+1)<n:\n",
    "        k+=1\n",
    "    if n-(2**(k+1)): #case where m is not equal to zero, i.e, n is not a perfect power of 2\n",
    "        return (2*(n-(2**k))+1)\n",
    "    else: #m = 0, n is perfect power\n",
    "        return 1"
   ]
  },
  {
   "cell_type": "code",
   "execution_count": 4,
   "metadata": {},
   "outputs": [
    {
     "name": "stdout",
     "output_type": "stream",
     "text": [
      "13.1 µs ± 688 ns per loop (mean ± std. dev. of 7 runs, 100000 loops each)\n"
     ]
    }
   ],
   "source": [
    "%%timeit\n",
    "(joseph_use_power_2(10000))"
   ]
  },
  {
   "cell_type": "markdown",
   "metadata": {},
   "source": [
    "# solution using binary, right shift"
   ]
  },
  {
   "cell_type": "code",
   "execution_count": 5,
   "metadata": {},
   "outputs": [],
   "source": [
    "def josephbin(n):\n",
    "    bin_n = bin(n)[2:]\n",
    "    ans = bin_n[1:]+'1'\n",
    "    ans = int(ans,base=2)\n",
    "    return ans"
   ]
  },
  {
   "cell_type": "code",
   "execution_count": 6,
   "metadata": {},
   "outputs": [
    {
     "name": "stdout",
     "output_type": "stream",
     "text": [
      "1.79 µs ± 56.6 ns per loop (mean ± std. dev. of 7 runs, 1000000 loops each)\n"
     ]
    }
   ],
   "source": [
    "%%timeit\n",
    "(josephbin(10000))"
   ]
  },
  {
   "cell_type": "markdown",
   "metadata": {},
   "source": [
    "# case where you are not just killing alternate person but every kth person"
   ]
  },
  {
   "cell_type": "markdown",
   "metadata": {},
   "source": [
    "here, recrsive solution is needed. by kth person I mean if it starts from 1, k will be killed first then 2k....  \n",
    "this is just the same like actual josephus problem when k=2"
   ]
  },
  {
   "cell_type": "markdown",
   "metadata": {},
   "source": [
    "recursion is  \n",
    "$solution(n, k) = (solution(n - 1, k) + k-1)$%$n + 1 $    \n",
    "because after 1 person is killed, total people are n-1, and now the starting person is one after the killed person is supposed to be k+1, but in the code it is from 1, to correct that add k-1, and we take remainder after dividing by n because this should be circular. and one because it is actually the next person\n",
    "\n",
    "\n",
    "and base case is  \n",
    "$solution(1, k) = 1$"
   ]
  },
  {
   "cell_type": "code",
   "execution_count": 7,
   "metadata": {},
   "outputs": [],
   "source": [
    "def recur_joseph(n, k): \n",
    "    if (n == 1): \n",
    "        return 1\n",
    "    else: \n",
    "        return (recur_joseph(n-1,k)+ k-1)% n + 1"
   ]
  },
  {
   "cell_type": "markdown",
   "metadata": {},
   "source": [
    "## check recursive solution for k=2, actual josephus problem"
   ]
  },
  {
   "cell_type": "code",
   "execution_count": 8,
   "metadata": {},
   "outputs": [
    {
     "name": "stdout",
     "output_type": "stream",
     "text": [
      "1 1 37 73 89\n"
     ]
    }
   ],
   "source": [
    "print(recur_joseph(8,2),recur_joseph(64,2),recur_joseph(50,2),recur_joseph(100,2),recur_joseph(108,2))\n",
    "# so it is working"
   ]
  },
  {
   "cell_type": "code",
   "execution_count": 16,
   "metadata": {},
   "outputs": [],
   "source": [
    "import sys\n",
    "sys.setrecursionlimit(15000) #this takes so much recursion"
   ]
  },
  {
   "cell_type": "code",
   "execution_count": null,
   "metadata": {},
   "outputs": [],
   "source": [
    "%%timeit\n",
    "(recur_joseph(10000,2))"
   ]
  },
  {
   "cell_type": "markdown",
   "metadata": {},
   "source": [
    "## time taken by different methods"
   ]
  },
  {
   "cell_type": "markdown",
   "metadata": {},
   "source": [
    "- mechanical method -> 602 µs ± 34.2 µs\n",
    "- using powers of 2 -> 13.1 µs ± 688 ns \n",
    "- binary method -> 1.79 µs ± 56.6 ns\n",
    "- recursive -> is not good for big numbers, exceeds recusrion limit and kernel dies most of the times"
   ]
  }
 ],
 "metadata": {
  "kernelspec": {
   "display_name": "Python 3",
   "language": "python",
   "name": "python3"
  },
  "language_info": {
   "codemirror_mode": {
    "name": "ipython",
    "version": 3
   },
   "file_extension": ".py",
   "mimetype": "text/x-python",
   "name": "python",
   "nbconvert_exporter": "python",
   "pygments_lexer": "ipython3",
   "version": "3.6.5"
  }
 },
 "nbformat": 4,
 "nbformat_minor": 2
}
