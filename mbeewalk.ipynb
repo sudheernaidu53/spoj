{
 "cells": [
  {
   "cell_type": "markdown",
   "metadata": {},
   "source": [
    "# mbeewalk"
   ]
  },
  {
   "cell_type": "code",
   "execution_count": 41,
   "metadata": {},
   "outputs": [],
   "source": [
    "import numpy"
   ]
  },
  {
   "cell_type": "code",
   "execution_count": 76,
   "metadata": {},
   "outputs": [],
   "source": [
    "global way\n",
    "way = [[[numpy.longdouble(0)]*15 for i in range(15)] for j in range(15)] #0 or float(0) or numpy.int(0), numpy.float(0).."
   ]
  },
  {
   "cell_type": "markdown",
   "metadata": {},
   "source": [
    "## idea"
   ]
  },
  {
   "cell_type": "markdown",
   "metadata": {},
   "source": [
    "      *(0,1)    *(1,1)\n",
    "      \n",
    " \n",
    " *(-1,0)    *(0,0)    * (1,0)\n",
    " \n",
    " \n",
    "     *(-1,-1)     *(0,-1)\n",
    "     \n",
    "a slant line passing through (0,0) can be thought of as y-axis and horizontal lines as y-axis.\n",
    "so you can get to (0,0) in one step is when you move in from all the 6 points in the diagram, so if you want to move to (i,j) in k steps, you can move to it in 1 step from the boxes sorrouding it, so #ways to reach to (i,j) in k steps is sum of #ways to reach adjacent boxes of it in k-1 steps"
   ]
  },
  {
   "cell_type": "code",
   "execution_count": 77,
   "metadata": {},
   "outputs": [],
   "source": [
    "def beewalk(n):\n",
    "    way[0][7][7]=1\n",
    "    for i in range(1,n+1):\n",
    "        for j in range(1,14):\n",
    "            for k in range(1,14):\n",
    "                way[i][j][k] = way[i-1][j][k+1]+way[i-1][j][k-1]+way[i-1][j+1][k]+way[i-1][j-1][k]+way[i-1][j+1][k-1]+way[i-1][j-1][k+1]\n",
    "    return way[n][7][7]"
   ]
  },
  {
   "cell_type": "code",
   "execution_count": 83,
   "metadata": {},
   "outputs": [
    {
     "name": "stdout",
     "output_type": "stream",
     "text": [
      "1\n",
      "13\n",
      "266378112\n"
     ]
    }
   ],
   "source": [
    "T = int(input())\n",
    "for i in range(T):\n",
    "    print(int(beewalk(int(input()))))"
   ]
  },
  {
   "cell_type": "code",
   "execution_count": 78,
   "metadata": {},
   "outputs": [
    {
     "name": "stdout",
     "output_type": "stream",
     "text": [
      "0 1\n",
      "1 0.0\n",
      "2 6.0\n",
      "3 12.0\n",
      "4 90.0\n",
      "5 360.0\n",
      "6 2040.0\n",
      "7 10080.0\n",
      "8 54810.0\n",
      "9 290640.0\n",
      "10 1588356.0\n",
      "11 8676360.0\n",
      "12 47977776.0\n",
      "13 266378112.0\n",
      "14 1488787874.0\n"
     ]
    }
   ],
   "source": [
    "for i in range(15):\n",
    "    print(i,beewalk(i))"
   ]
  },
  {
   "cell_type": "markdown",
   "metadata": {},
   "source": [
    "for n=14, the answer has to be 1488794736, according to the cpp code implementation, which was accepted by spoj. everything else is correct"
   ]
  },
  {
   "cell_type": "code",
   "execution_count": 38,
   "metadata": {},
   "outputs": [
    {
     "data": {
      "text/plain": [
       "1222416624"
      ]
     },
     "execution_count": 38,
     "metadata": {},
     "output_type": "execute_result"
    }
   ],
   "source": [
    "1488794736-266378112\n"
   ]
  },
  {
   "cell_type": "code",
   "execution_count": 40,
   "metadata": {},
   "outputs": [
    {
     "data": {
      "text/plain": [
       "1488794736"
      ]
     },
     "execution_count": 40,
     "metadata": {},
     "output_type": "execute_result"
    }
   ],
   "source": [
    "1222416624+266378112"
   ]
  },
  {
   "cell_type": "code",
   "execution_count": 61,
   "metadata": {},
   "outputs": [
    {
     "data": {
      "text/plain": [
       "-6862"
      ]
     },
     "execution_count": 61,
     "metadata": {},
     "output_type": "execute_result"
    }
   ],
   "source": [
    "1488787874-1488794736"
   ]
  },
  {
   "cell_type": "code",
   "execution_count": null,
   "metadata": {},
   "outputs": [],
   "source": []
  }
 ],
 "metadata": {
  "kernelspec": {
   "display_name": "Python 3",
   "language": "python",
   "name": "python3"
  },
  "language_info": {
   "codemirror_mode": {
    "name": "ipython",
    "version": 3
   },
   "file_extension": ".py",
   "mimetype": "text/x-python",
   "name": "python",
   "nbconvert_exporter": "python",
   "pygments_lexer": "ipython3",
   "version": "3.6.5"
  }
 },
 "nbformat": 4,
 "nbformat_minor": 2
}
