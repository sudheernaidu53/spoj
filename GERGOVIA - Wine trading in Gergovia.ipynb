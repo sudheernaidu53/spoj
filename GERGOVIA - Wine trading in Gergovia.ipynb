{
 "cells": [
  {
   "cell_type": "markdown",
   "metadata": {},
   "source": [
    "## GERGOVIA - Wine trading in Gergovia\n"
   ]
  },
  {
   "cell_type": "markdown",
   "metadata": {},
   "source": [
    "Gergovia consists of one street, and every inhabitant of the city is a wine salesman. Everyone buys wine from other inhabitants of the city. Every day each inhabitant decides how much wine he wants to buy or sell. Interestingly, demand and supply is always the same, so that each inhabitant gets what he wants.\n",
    "\n",
    "There is one problem, however: Transporting wine from one house to another results in work. Since all wines are equally good, the inhabitants of Gergovia don't care which persons they are doing trade with, they are only interested in selling or buying a specific amount of wine.\n",
    "\n",
    "In this problem you are asked to reconstruct the trading during one day in Gergovia. For simplicity we will assume that the houses are built along a straight line with equal distance between adjacent houses. Transporting one bottle of wine from one house to an adjacent house results in one unit of work."
   ]
  },
  {
   "cell_type": "markdown",
   "metadata": {},
   "source": [
    "## Input\n",
    "The input consists of several test cases.\n",
    "\n",
    "Each test case starts with the number of inhabitants N (2 ≤ N ≤ 100000).\n",
    "\n",
    "The following line contains n integers ai (-1000 ≤ ai ≤ 1000).\n",
    "\n",
    "If ai ≥ 0, it means that the inhabitant living in the ith house wants to buy ai bottles of wine. If ai < 0, he wants to sell -ai bottles of wine.\n",
    "\n",
    "You may assume that the numbers ai sum up to 0.\n",
    "\n",
    "The last test case is followed by a line containing 0.\n",
    "\n",
    "## Output\n",
    "For each test case print the minimum amount of work units needed so that every inhabitant has his demand fulfilled."
   ]
  },
  {
   "cell_type": "markdown",
   "metadata": {},
   "source": [
    "### example\n"
   ]
  },
  {
   "cell_type": "code",
   "execution_count": 1,
   "metadata": {},
   "outputs": [
    {
     "ename": "SyntaxError",
     "evalue": "invalid syntax (<ipython-input-1-a05c3df38f8a>, line 1)",
     "output_type": "error",
     "traceback": [
      "\u001b[1;36m  File \u001b[1;32m\"<ipython-input-1-a05c3df38f8a>\"\u001b[1;36m, line \u001b[1;32m1\u001b[0m\n\u001b[1;33m    Input:\u001b[0m\n\u001b[1;37m          ^\u001b[0m\n\u001b[1;31mSyntaxError\u001b[0m\u001b[1;31m:\u001b[0m invalid syntax\n"
     ]
    }
   ],
   "source": [
    "Input:\n",
    "5\n",
    "5 -4 1 -3 1\n",
    "6\n",
    "-1000 -1000 -1000 1000 1000 1000\n",
    "0\n",
    "\n",
    "Output:\n",
    "9\n",
    "9000"
   ]
  },
  {
   "cell_type": "markdown",
   "metadata": {},
   "source": [
    "# Idea\n",
    "\n",
    "the amount to adjacent house is 1. so if you move k bottles to next house, add it to amount(the positive amount). and if it's just same type (both -ve entries, both +ve entries) we have to move it up again to next one, so then we will count 1 for that again. so we essentially count the same amount but it's implicitly added bit by bit"
   ]
  },
  {
   "cell_type": "code",
   "execution_count": 8,
   "metadata": {},
   "outputs": [],
   "source": [
    "def greedy(wine):\n",
    "    n = len(wine)\n",
    "    work =0\n",
    "    for i in range(n-1):\n",
    "        wine[i+1]+=wine[i]\n",
    "        work += abs(wine[i])\n",
    "        print(work)\n",
    "        print(wine)\n",
    "    return work\n",
    "#     for i in range(n):\n",
    "#         if wine(i)=0:\n",
    "#             continue\n",
    "#         elif wine(i)>0:\n",
    "#             wine"
   ]
  },
  {
   "cell_type": "code",
   "execution_count": 9,
   "metadata": {},
   "outputs": [
    {
     "name": "stdout",
     "output_type": "stream",
     "text": [
      "5\n",
      "[5, 1, 1, -3, 1]\n",
      "6\n",
      "[5, 1, 2, -3, 1]\n",
      "8\n",
      "[5, 1, 2, -1, 1]\n",
      "9\n",
      "[5, 1, 2, -1, 0]\n"
     ]
    },
    {
     "data": {
      "text/plain": [
       "9"
      ]
     },
     "execution_count": 9,
     "metadata": {},
     "output_type": "execute_result"
    }
   ],
   "source": [
    "greedy([5,-4,1,-3,1])"
   ]
  },
  {
   "cell_type": "code",
   "execution_count": 10,
   "metadata": {},
   "outputs": [
    {
     "name": "stdout",
     "output_type": "stream",
     "text": [
      "100\n",
      "[-100, -200, -100, 100, 100, 100]\n",
      "300\n",
      "[-100, -200, -300, 100, 100, 100]\n",
      "600\n",
      "[-100, -200, -300, -200, 100, 100]\n",
      "800\n",
      "[-100, -200, -300, -200, -100, 100]\n",
      "900\n",
      "[-100, -200, -300, -200, -100, 0]\n"
     ]
    },
    {
     "data": {
      "text/plain": [
       "900"
      ]
     },
     "execution_count": 10,
     "metadata": {},
     "output_type": "execute_result"
    }
   ],
   "source": [
    "greedy([-100,-100,-100,100,100,100])"
   ]
  },
  {
   "cell_type": "code",
   "execution_count": 13,
   "metadata": {},
   "outputs": [
    {
     "data": {
      "text/plain": [
       "[0, 1, 2]"
      ]
     },
     "execution_count": 13,
     "metadata": {},
     "output_type": "execute_result"
    }
   ],
   "source": [
    "[int(i) for i in '0 1 2'.strip().split()]"
   ]
  },
  {
   "cell_type": "code",
   "execution_count": 14,
   "metadata": {},
   "outputs": [
    {
     "name": "stdout",
     "output_type": "stream",
     "text": [
      "5\n",
      "3 -3 7 -7 0\n",
      "3\n",
      "[3, 0, 7, -7, 0]\n",
      "3\n",
      "[3, 0, 7, -7, 0]\n",
      "10\n",
      "[3, 0, 7, 0, 0]\n",
      "10\n",
      "[3, 0, 7, 0, 0]\n",
      "10\n",
      "0\n"
     ]
    }
   ],
   "source": [
    "while(1):\n",
    "    if int(input())!=0:\n",
    "        arr = [int(i) for i in input().strip().split()]\n",
    "        print(greedy(arr))\n",
    "    else:break"
   ]
  },
  {
   "cell_type": "code",
   "execution_count": 22,
   "metadata": {},
   "outputs": [
    {
     "data": {
      "text/plain": [
       "'GERGOVIA___Wine_trading_in_Gergovia'"
      ]
     },
     "execution_count": 22,
     "metadata": {},
     "output_type": "execute_result"
    }
   ],
   "source": [
    "'GERGOVIA - Wine trading in Gergovia'.replace(' ','_').replace('-','_')"
   ]
  },
  {
   "cell_type": "code",
   "execution_count": null,
   "metadata": {},
   "outputs": [],
   "source": []
  }
 ],
 "metadata": {
  "kernelspec": {
   "display_name": "Python 3",
   "language": "python",
   "name": "python3"
  },
  "language_info": {
   "codemirror_mode": {
    "name": "ipython",
    "version": 3
   },
   "file_extension": ".py",
   "mimetype": "text/x-python",
   "name": "python",
   "nbconvert_exporter": "python",
   "pygments_lexer": "ipython3",
   "version": "3.6.5"
  }
 },
 "nbformat": 4,
 "nbformat_minor": 2
}
