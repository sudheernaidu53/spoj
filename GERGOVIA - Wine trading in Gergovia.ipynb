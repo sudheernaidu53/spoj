{
 "cells": [
  {
   "cell_type": "code",
   "execution_count": 8,
   "metadata": {},
   "outputs": [],
   "source": [
    "def greedy(wine):\n",
    "    n = len(wine)\n",
    "    work =0\n",
    "    for i in range(n-1):\n",
    "        wine[i+1]+=wine[i]\n",
    "        work += abs(wine[i])\n",
    "        print(work)\n",
    "        print(wine)\n",
    "    return work\n",
    "#     for i in range(n):\n",
    "#         if wine(i)=0:\n",
    "#             continue\n",
    "#         elif wine(i)>0:\n",
    "#             wine"
   ]
  },
  {
   "cell_type": "code",
   "execution_count": 9,
   "metadata": {},
   "outputs": [
    {
     "name": "stdout",
     "output_type": "stream",
     "text": [
      "5\n",
      "[5, 1, 1, -3, 1]\n",
      "6\n",
      "[5, 1, 2, -3, 1]\n",
      "8\n",
      "[5, 1, 2, -1, 1]\n",
      "9\n",
      "[5, 1, 2, -1, 0]\n"
     ]
    },
    {
     "data": {
      "text/plain": [
       "9"
      ]
     },
     "execution_count": 9,
     "metadata": {},
     "output_type": "execute_result"
    }
   ],
   "source": [
    "greedy([5,-4,1,-3,1])"
   ]
  },
  {
   "cell_type": "code",
   "execution_count": 10,
   "metadata": {},
   "outputs": [
    {
     "name": "stdout",
     "output_type": "stream",
     "text": [
      "100\n",
      "[-100, -200, -100, 100, 100, 100]\n",
      "300\n",
      "[-100, -200, -300, 100, 100, 100]\n",
      "600\n",
      "[-100, -200, -300, -200, 100, 100]\n",
      "800\n",
      "[-100, -200, -300, -200, -100, 100]\n",
      "900\n",
      "[-100, -200, -300, -200, -100, 0]\n"
     ]
    },
    {
     "data": {
      "text/plain": [
       "900"
      ]
     },
     "execution_count": 10,
     "metadata": {},
     "output_type": "execute_result"
    }
   ],
   "source": [
    "greedy([-100,-100,-100,100,100,100])"
   ]
  },
  {
   "cell_type": "code",
   "execution_count": 13,
   "metadata": {},
   "outputs": [
    {
     "data": {
      "text/plain": [
       "[0, 1, 2]"
      ]
     },
     "execution_count": 13,
     "metadata": {},
     "output_type": "execute_result"
    }
   ],
   "source": [
    "[int(i) for i in '0 1 2'.strip().split()]"
   ]
  },
  {
   "cell_type": "code",
   "execution_count": 14,
   "metadata": {},
   "outputs": [
    {
     "name": "stdout",
     "output_type": "stream",
     "text": [
      "5\n",
      "3 -3 7 -7 0\n",
      "3\n",
      "[3, 0, 7, -7, 0]\n",
      "3\n",
      "[3, 0, 7, -7, 0]\n",
      "10\n",
      "[3, 0, 7, 0, 0]\n",
      "10\n",
      "[3, 0, 7, 0, 0]\n",
      "10\n",
      "0\n"
     ]
    }
   ],
   "source": [
    "while(1):\n",
    "    if int(input())!=0:\n",
    "        arr = [int(i) for i in input().strip().split()]\n",
    "        print(greedy(arr))\n",
    "    else:break"
   ]
  },
  {
   "cell_type": "code",
   "execution_count": 22,
   "metadata": {},
   "outputs": [
    {
     "data": {
      "text/plain": [
       "'GERGOVIA___Wine_trading_in_Gergovia'"
      ]
     },
     "execution_count": 22,
     "metadata": {},
     "output_type": "execute_result"
    }
   ],
   "source": [
    "'GERGOVIA - Wine trading in Gergovia'.replace(' ','_').replace('-','_')"
   ]
  },
  {
   "cell_type": "code",
   "execution_count": null,
   "metadata": {},
   "outputs": [],
   "source": []
  }
 ],
 "metadata": {
  "kernelspec": {
   "display_name": "Python 3",
   "language": "python",
   "name": "python3"
  },
  "language_info": {
   "codemirror_mode": {
    "name": "ipython",
    "version": 3
   },
   "file_extension": ".py",
   "mimetype": "text/x-python",
   "name": "python",
   "nbconvert_exporter": "python",
   "pygments_lexer": "ipython3",
   "version": "3.7.3"
  }
 },
 "nbformat": 4,
 "nbformat_minor": 2
}
