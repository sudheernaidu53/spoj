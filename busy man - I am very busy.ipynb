{
 "cells": [
  {
   "cell_type": "markdown",
   "metadata": {},
   "source": [
    "Input Specifications\n",
    "\n",
    "The first line consists of an integer T, the number of test cases. For each test case the first line consists of an integer N, the number of activities. Then the next N lines contains two integers m and n, the start and end time of each activity.\n",
    "\n",
    "Output Specifications\n",
    "\n",
    "For each test case find the maximum number of activities that you can do."
   ]
  },
  {
   "cell_type": "code",
   "execution_count": 3,
   "metadata": {},
   "outputs": [
    {
     "ename": "SyntaxError",
     "evalue": "invalid syntax (<ipython-input-3-2cc95f5205b6>, line 4)",
     "output_type": "error",
     "traceback": [
      "\u001b[1;36m  File \u001b[1;32m\"<ipython-input-3-2cc95f5205b6>\"\u001b[1;36m, line \u001b[1;32m4\u001b[0m\n\u001b[1;33m    3 9\u001b[0m\n\u001b[1;37m      ^\u001b[0m\n\u001b[1;31mSyntaxError\u001b[0m\u001b[1;31m:\u001b[0m invalid syntax\n"
     ]
    }
   ],
   "source": [
    "# Sample Input: (empty lines just for clarity)\n",
    "3\n",
    "3\n",
    "3 9\n",
    "2 8\n",
    "6 9\n",
    "\n",
    "4\n",
    "1 7\n",
    "5 8\n",
    "7 8\n",
    "1 8\n",
    "\n",
    "6\n",
    "7 9\n",
    "0 10\n",
    "4 5\n",
    "8 9\n",
    "4 10\n",
    "5 7\n",
    "\n",
    "# Sample Output:\n",
    "1\n",
    "2\n",
    "3\n"
   ]
  },
  {
   "cell_type": "markdown",
   "metadata": {},
   "source": [
    "#### this works \n",
    "This problem can be solved optimally with a simple greedy strategy of scheduling requests based on earliest finish time i.e., from the set of compatible requests, we always select the one with the earliest finish time. The idea is to free the resource as soon as possible while still satisfying one request so as to maximize the time left to satisfy other requests.\n"
   ]
  },
  {
   "cell_type": "code",
   "execution_count": 23,
   "metadata": {},
   "outputs": [
    {
     "ename": "SyntaxError",
     "evalue": "invalid syntax (<ipython-input-23-be6b792db45a>, line 1)",
     "output_type": "error",
     "traceback": [
      "\u001b[1;36m  File \u001b[1;32m\"<ipython-input-23-be6b792db45a>\"\u001b[1;36m, line \u001b[1;32m1\u001b[0m\n\u001b[1;33m    Let R be the set of all requests\u001b[0m\n\u001b[1;37m        ^\u001b[0m\n\u001b[1;31mSyntaxError\u001b[0m\u001b[1;31m:\u001b[0m invalid syntax\n"
     ]
    }
   ],
   "source": [
    "Let R be the set of all requests\n",
    "schedule = {}\n",
    "while !R.empty():\n",
    "  Choose a request i ∈ R that has the smallest finish time\n",
    "  Add i to schedule\n",
    "  Delete all requests from R that are incompatible with i\n",
    "return schedule"
   ]
  },
  {
   "cell_type": "code",
   "execution_count": 24,
   "metadata": {},
   "outputs": [
    {
     "ename": "SyntaxError",
     "evalue": "invalid syntax (<ipython-input-24-23f8d5462ccd>, line 1)",
     "output_type": "error",
     "traceback": [
      "\u001b[1;36m  File \u001b[1;32m\"<ipython-input-24-23f8d5462ccd>\"\u001b[1;36m, line \u001b[1;32m1\u001b[0m\n\u001b[1;33m    sort the n requests in order of finish time\u001b[0m\n\u001b[1;37m           ^\u001b[0m\n\u001b[1;31mSyntaxError\u001b[0m\u001b[1;31m:\u001b[0m invalid syntax\n"
     ]
    }
   ],
   "source": [
    "sort the n requests in order of finish time\n",
    "schedule = {}\n",
    "last_finish = 0\n",
    "for i = 1 to n:\n",
    "  if s(i) >= last_finish:\n",
    "    Add i to schedule\n",
    "    last_finish = f(i)\n",
    "return schedule"
   ]
  },
  {
   "cell_type": "code",
   "execution_count": 22,
   "metadata": {},
   "outputs": [
    {
     "name": "stdout",
     "output_type": "stream",
     "text": [
      "<class 'list'>\n",
      "[[1, 2], [2, 1]]\n"
     ]
    }
   ],
   "source": [
    "('1   2 '.strip().split())\n",
    "lists = [[1,2],[2,1]]\n",
    "print(type(lists))\n",
    "(lists.sort(key = endvalue,reverse=True))\n",
    "print(lists)"
   ]
  },
  {
   "cell_type": "code",
   "execution_count": 11,
   "metadata": {},
   "outputs": [],
   "source": [
    "def endvalue(arr):\n",
    "    return int(arr[1])\n",
    "def greedy(chores,startendtimes):\n",
    "    startendtimes.sort(key = endvalue,reverse = False)\n",
    "    last_finish = 0\n",
    "    total = 0\n",
    "    schedule = []\n",
    "#     print('\\n',startendtimes,'\\n')\n",
    "    for i in range(chores):\n",
    "#         print(startendtimes[i][0],last_finish)\n",
    "        if (int(startendtimes[i][0])>=last_finish):\n",
    "            last_finish = int(startendtimes[i][1])\n",
    "#             print(last_finish)\n",
    "            total+=1\n",
    "            schedule.append(startendtimes[i])\n",
    "    return schedule,total"
   ]
  },
  {
   "cell_type": "code",
   "execution_count": 12,
   "metadata": {},
   "outputs": [
    {
     "name": "stdout",
     "output_type": "stream",
     "text": [
      "1\n",
      "2\n",
      "2 4\n",
      "4 6\n",
      "\n",
      " [['2', '4'], ['4', '6']] \n",
      "\n",
      "2 0\n",
      "4\n",
      "4 4\n",
      "6\n",
      "([['2', '4'], ['4', '6']], 2)\n"
     ]
    }
   ],
   "source": [
    "testcase = int(input())\n",
    "for i in range(testcase):\n",
    "    chores=int(input())\n",
    "    startendtimes = [0]*chores\n",
    "    for i in range(chores):\n",
    "        startendtimes[i] = (input().strip().split(' '))\n",
    "    print(greedy(chores,startendtimes))"
   ]
  },
  {
   "cell_type": "code",
   "execution_count": null,
   "metadata": {},
   "outputs": [],
   "source": []
  }
 ],
 "metadata": {
  "kernelspec": {
   "display_name": "Python 3",
   "language": "python",
   "name": "python3"
  },
  "language_info": {
   "codemirror_mode": {
    "name": "ipython",
    "version": 3
   },
   "file_extension": ".py",
   "mimetype": "text/x-python",
   "name": "python",
   "nbconvert_exporter": "python",
   "pygments_lexer": "ipython3",
   "version": "3.6.5"
  }
 },
 "nbformat": 4,
 "nbformat_minor": 2
}
