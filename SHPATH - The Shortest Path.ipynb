{
 "cells": [
  {
   "cell_type": "markdown",
   "metadata": {},
   "source": [
    "You are given a list of cities. Each direct connection between two cities has its transportation cost (an integer bigger than 0). The goal is to find the paths of minimum cost between pairs of cities. Assume that the cost of each path (which is the sum of costs of all direct connections belongning to this path) is at most 200000. The name of a city is a string containing characters a,...,z and is at most 10 characters long."
   ]
  },
  {
   "cell_type": "code",
   "execution_count": 1,
   "metadata": {},
   "outputs": [
    {
     "ename": "SyntaxError",
     "evalue": "invalid syntax (<ipython-input-1-b6dc37b34175>, line 4)",
     "output_type": "error",
     "traceback": [
      "\u001b[0;36m  File \u001b[0;32m\"<ipython-input-1-b6dc37b34175>\"\u001b[0;36m, line \u001b[0;32m4\u001b[0m\n\u001b[0;31m    s [the number of tests <= 10]\u001b[0m\n\u001b[0m                ^\u001b[0m\n\u001b[0;31mSyntaxError\u001b[0m\u001b[0;31m:\u001b[0m invalid syntax\n"
     ]
    }
   ],
   "source": [
    "Input\n",
    " \n",
    "\n",
    "s [the number of tests <= 10]\n",
    "n [the number of cities <= 10000]\n",
    "NAME [city name]\n",
    "p [the number of neighbours of city NAME]\n",
    "nr cost [nr - index of a city connected to NAME (the index of the first city is 1)]\n",
    "           [cost - the transportation cost]\n",
    "r [the number of paths to find <= 100]\n",
    "NAME1 NAME2 [NAME1 - source, NAME2 - destination]\n",
    "[empty line separating the tests]\n",
    " \n",
    "\n",
    "Output\n",
    " \n",
    "\n",
    "cost [the minimum transportation cost from city NAME1 to city NAME2 (one per line)]"
   ]
  },
  {
   "cell_type": "code",
   "execution_count": null,
   "metadata": {},
   "outputs": [],
   "source": [
    "Input:\n",
    "1\n",
    "4\n",
    "gdansk\n",
    "2\n",
    "2 1\n",
    "3 3\n",
    "bydgoszcz\n",
    "3\n",
    "1 1\n",
    "3 1\n",
    "4 4\n",
    "torun\n",
    "3\n",
    "1 3\n",
    "2 1\n",
    "4 1\n",
    "warszawa\n",
    "2\n",
    "2 4\n",
    "3 1\n",
    "2\n",
    "gdansk warszawa\n",
    "bydgoszcz warszawa\n",
    "\n",
    "Output:\n",
    "3\n",
    "2"
   ]
  },
  {
   "cell_type": "code",
   "execution_count": 35,
   "metadata": {},
   "outputs": [
    {
     "name": "stdout",
     "output_type": "stream",
     "text": [
      "g\n",
      "2 \n",
      "2 1\n",
      "3 3\n",
      "b\n",
      "3\n",
      "1 1\n",
      "3 1\n",
      "4 4\n",
      "t\n",
      "3\n",
      "1 3\n",
      "2 1\n",
      "4 1\n",
      "w\n",
      "2\n",
      "2 4\n",
      "3 1\n",
      "[[], [[2, 1], [3, 3]], [[1, 1], [3, 1], [4, 4]], [[1, 3], [2, 1], [4, 1]], [[2, 4], [3, 1]]]\n",
      "2\n",
      "g w\n",
      "1 4\n",
      "3\n",
      "b w\n",
      "2 4\n",
      "2\n"
     ]
    }
   ],
   "source": [
    "import queue\n",
    "\n",
    "\n",
    "def distance(edges, start,end):\n",
    "    # initialise all distances to be infinity first\n",
    "    print(start,end)\n",
    "    dist=[float('inf')]*len(edges)\n",
    "    dist[start] = 0\n",
    "    pq = queue.PriorityQueue() #use a priority queue for processing by default this is min priority queue\n",
    "#     pq.put((start, dist[start])) #store node and it's distance\n",
    "    pq.put(start)\n",
    "    while not pq.empty():\n",
    "        u_index = pq.get()\n",
    "#         u_index = u[0]\n",
    "        for v in edges[u_index]:\n",
    "#             print(dist[v[0]],dist[u_index] + v[1])\n",
    "            if dist[v[0]] > dist[u_index] + v[1] :\n",
    "                dist[v[0]] = dist[u_index] + v[1]\n",
    "#                 pq.put((v, dist[v]))\n",
    "                pq.put(v[0])\n",
    "    if dist[end] == float('inf'):\n",
    "        return -1\n",
    "    return dist[end]\n",
    "\n",
    "def f(x):\n",
    "    return dic[x]\n",
    "if __name__ == '__main__':\n",
    "#     input = sys.stdin.read()\n",
    "    edges = [[] for k in range(5)]\n",
    "    dic = {}\n",
    "    for city in range(1,5):     \n",
    "        dic[input()] = city\n",
    "        for i in range(int(input())):\n",
    "            data = list(map(int, input().split()))\n",
    "            edges[city].append(data)\n",
    "    print(edges)\n",
    "    for cities in range(int(input())):\n",
    "        start,end = map(f,input().strip().split())\n",
    "        print(distance(edges,start,end))\n",
    "    \n"
   ]
  },
  {
   "cell_type": "code",
   "execution_count": null,
   "metadata": {},
   "outputs": [],
   "source": [
    "gdansk\n",
    "2\n",
    "2 1\n",
    "3 3\n",
    "bydgoszcz\n",
    "3\n",
    "1 1\n",
    "3 1\n",
    "4 4\n",
    "torun\n",
    "3\n",
    "1 3\n",
    "2 1\n",
    "4 1\n",
    "warszawa\n",
    "2\n",
    "2 4\n",
    "3 1\n",
    "2\n",
    "gdansk warszawa\n",
    "bydgoszcz warszawa"
   ]
  },
  {
   "cell_type": "code",
   "execution_count": 26,
   "metadata": {},
   "outputs": [
    {
     "name": "stdout",
     "output_type": "stream",
     "text": [
      "3 3 1 2 7 1 3 5 2 3 2 3 2 \n",
      "-1\n",
      "5 9 1 2 4 1 3 2 2 3 2 3 2 1 2 4 2 3 5 4 5 4 1 2 5 3 3 4 4 1 5\n",
      "6\n",
      "4 4 1 2 1 4 1 2 2 3 2 1 3 5 1 3 \n",
      "3\n"
     ]
    }
   ],
   "source": [
    "import sys\n",
    "import queue\n",
    "\n",
    "\n",
    "\n",
    "def distance(adj, cost, start,end):\n",
    "    # initialise all distances to be infinity first\n",
    "    dist=[float('inf')]*len(adj)\n",
    "    dist[start] = 0\n",
    "    pq = queue.PriorityQueue() #use a priority queue for processing\n",
    "#     pq.put((start, dist[start])) #store node and it's distance\n",
    "    pq.put(start)\n",
    "    while not pq.empty():\n",
    "        u_index = pq.get()\n",
    "#         u_index = u[0]\n",
    "        for v in adj[u_index]:\n",
    "            v_index = adj[u_index].index(v)\n",
    "            if dist[v] > dist[u_index] + cost[u_index][v_index]:\n",
    "                dist[v] = dist[u_index] + cost[u_index][v_index]\n",
    "#                 pq.put((v, dist[v]))\n",
    "                pq.put(v)\n",
    "    if dist[t] == float('inf'):\n",
    "        return -1\n",
    "    return dist[t]\n",
    "\n",
    "\n",
    "if __name__ == '__main__':\n",
    "#     input = sys.stdin.read()\n",
    "    for i in range(3):\n",
    "        data = list(map(int, input().split()))\n",
    "        n, m = data[0:2]\n",
    "        data = data[2:]\n",
    "        edges = list(zip(zip(data[0:(3 * m):3], data[1:(3 * m):3]), data[2:(3 * m):3]))\n",
    "        data = data[3 * m:]\n",
    "        adj = [[] for _ in range(n)]\n",
    "        cost = [[] for _ in range(n)]\n",
    "        for ((a, b), w) in edges:\n",
    "            adj[a - 1].append(b - 1)\n",
    "            cost[a - 1].append(w)\n",
    "        s, t = data[0] - 1, data[1] - 1\n",
    "        print(distance(adj, cost, s, t))"
   ]
  },
  {
   "cell_type": "code",
   "execution_count": null,
   "metadata": {},
   "outputs": [],
   "source": []
  }
 ],
 "metadata": {
  "kernelspec": {
   "display_name": "Python 3",
   "language": "python",
   "name": "python3"
  },
  "language_info": {
   "codemirror_mode": {
    "name": "ipython",
    "version": 3
   },
   "file_extension": ".py",
   "mimetype": "text/x-python",
   "name": "python",
   "nbconvert_exporter": "python",
   "pygments_lexer": "ipython3",
   "version": "3.6.4"
  }
 },
 "nbformat": 4,
 "nbformat_minor": 2
}
